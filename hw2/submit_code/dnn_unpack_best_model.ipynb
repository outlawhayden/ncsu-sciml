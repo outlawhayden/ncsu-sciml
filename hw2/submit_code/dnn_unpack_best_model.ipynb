{
 "cells": [
  {
   "cell_type": "code",
   "execution_count": 19,
   "id": "8e0d07a2",
   "metadata": {},
   "outputs": [],
   "source": [
    "import jax.numpy as jnp\n",
    "import numpy as np\n",
    "import jax\n",
    "from scipy.spatial.distance import cdist\n",
    "from scipy.integrate import RK45\n",
    "import matplotlib.pyplot as plt\n",
    "from sklearn.model_selection import train_test_split\n",
    "import equinox as eqx\n",
    "from tqdm import tqdm\n",
    "\n",
    "jax.config.update(\"jax_platform_name\", \"cpu\") # force cpu usage for maximum compatibility"
   ]
  },
  {
   "cell_type": "code",
   "execution_count": 20,
   "id": "d8077862",
   "metadata": {},
   "outputs": [],
   "source": [
    "\n",
    "seed = 42\n",
    "np.random.seed(seed)\n",
    "key = jax.random.key(seed)\n",
    "depth = 2\n",
    "width = 50"
   ]
  },
  {
   "cell_type": "code",
   "execution_count": 21,
   "id": "60d6541f",
   "metadata": {},
   "outputs": [
    {
     "name": "stdout",
     "output_type": "stream",
     "text": [
      "dataset loaded.\n",
      "\n",
      "dataset format:\n",
      "xtr: (335, 2) xts: (165, 2)\n",
      "ytr: (335, 1) yts (165, 1)\n"
     ]
    }
   ],
   "source": [
    "try:\n",
    "    data = np.load('/Users/haydenoutlaw/Documents/Courses/SciML/ncsu-sciml/hw2/hw2_p3_data.npz')\n",
    "    x_tr = data['x_tr']\n",
    "    y_tr = data['y_tr']\n",
    "    print(\"dataset loaded.\\n\")\n",
    "except:\n",
    "    raise RuntimeError(\"error loading dataset.\\n\")\n",
    "\n",
    "indices = np.arange(len(x_tr))\n",
    "train_idx, test_idx = train_test_split(indices, test_size=0.33, random_state=seed)\n",
    "\n",
    "X_train, X_test = jnp.array(x_tr[train_idx]), jnp.array(x_tr[test_idx])\n",
    "y_train, y_test = jnp.array(y_tr[train_idx]), jnp.array(y_tr[test_idx])\n",
    "\n",
    "print(\"dataset format:\")\n",
    "print(\"xtr:\", X_train.shape, \"xts:\", X_test.shape)\n",
    "print(\"ytr:\", y_train.shape, \"yts\", y_test.shape)\n"
   ]
  },
  {
   "cell_type": "code",
   "execution_count": 22,
   "id": "db1723f0",
   "metadata": {},
   "outputs": [],
   "source": [
    "## CUSTOM PRIMITIVE DEFINITIONS\n",
    "\n",
    "class Linear(eqx.Module):\n",
    "    weight: jax.Array\n",
    "    bias: jax.Array\n",
    "\n",
    "    def __init__(self, in_size, out_size, key):\n",
    "        wkey, bkey = jax.random.split(key)\n",
    "        self.weight = jax.random.normal(wkey, (out_size, in_size))\n",
    "        self.bias = jax.random.normal(bkey, (out_size))\n",
    "\n",
    "    def __call__(self, x):\n",
    "        return self.weight @ x + self.bias\n",
    "\n",
    "\n",
    "class MLP(eqx.Module):\n",
    "    layers: list\n",
    "    activations: list\n",
    "\n",
    "    def __init__(self, architecture, key, activation=jax.nn.relu):\n",
    "        keys = jax.random.split(key, len(architecture) - 1)\n",
    "        self.layers = [\n",
    "            Linear(architecture[i], architecture[i+1], keys[i])\n",
    "            for i in range(len(architecture) - 1)\n",
    "        ]\n",
    "        self.activations = [activation] * (len(self.layers) - 1) + [eqx.nn.Identity()]\n",
    "\n",
    "    def __call__(self, x):\n",
    "        for layer, act in zip(self.layers, self.activations):\n",
    "            x = act(layer(x))\n",
    "        return x\n",
    "    \n",
    "\n",
    "# CUSTOM STEP FUNCTIONALS\n",
    "\n",
    "def loss_fn(model, x, y):\n",
    "    pred_y = jax.vmap(model)(x)\n",
    "    return jnp.mean((y - pred_y) ** 2)\n",
    "\n",
    "# train and eval step\n",
    "@eqx.filter_jit\n",
    "def train_step(model, opt_state, x, y, optimizer):\n",
    "    loss, grads = eqx.filter_value_and_grad(loss_fn)(model, x, y)\n",
    "    updates, opt_state = optimizer.update(grads, opt_state, model)\n",
    "    model = eqx.apply_updates(model, updates)\n",
    "    return model, opt_state, loss\n",
    "\n",
    "@eqx.filter_jit\n",
    "def eval_step(model, x, y):\n",
    "    return loss_fn(model, x, y)"
   ]
  },
  {
   "cell_type": "code",
   "execution_count": 23,
   "id": "e09d7ee5",
   "metadata": {},
   "outputs": [
    {
     "name": "stdout",
     "output_type": "stream",
     "text": [
      "model architecture:\n",
      "MLP(\n",
      "  layers=[\n",
      "    Linear(weight=f32[50,2], bias=f32[50]),\n",
      "    Linear(weight=f32[50,50], bias=f32[50]),\n",
      "    Linear(weight=f32[1,50], bias=f32[1])\n",
      "  ],\n",
      "  activations=[<function gelu>, <function gelu>, Identity()]\n",
      ")\n"
     ]
    }
   ],
   "source": [
    "arch = [x_tr.shape[1]] + [width] * depth + [y_tr.shape[1]]\n",
    "new_model = MLP(arch, key, activation=jax.nn.gelu)\n",
    "new_model = eqx.tree_deserialise_leaves(\"dnn_model_opt.eqx\", new_model)\n",
    "\n",
    "print(\"model architecture:\")\n",
    "print(new_model)\n"
   ]
  },
  {
   "cell_type": "code",
   "execution_count": 24,
   "id": "f1673978",
   "metadata": {},
   "outputs": [
    {
     "name": "stdout",
     "output_type": "stream",
     "text": [
      "(500,)\n",
      "(500,)\n"
     ]
    }
   ],
   "source": [
    "# sample random points from x_tr\n",
    "key, subkey = jax.random.split(key)\n",
    "num_samples = 500\n",
    "idx = jax.random.choice(subkey, x_tr.shape[0], (num_samples,), replace=False)\n",
    "\n",
    "# get true and predicted values on grid\n",
    "X_sample = jnp.array(x_tr[idx])\n",
    "Y_true = jnp.array(y_tr[idx]).flatten()\n",
    "Y_pred = jax.vmap(lambda x: new_model(x), in_axes=0)(X_sample)\n",
    "\n",
    "# convert everything to flat numpy arrays of shape (500,)\n",
    "X_sample = np.array(X_sample)\n",
    "Y_true   = np.array(Y_true).reshape(-1)\n",
    "Y_pred   = np.array(Y_pred).reshape(-1)\n",
    "print(Y_true.shape)\n",
    "print(Y_pred.shape)\n",
    "errors   = np.abs(Y_true - Y_pred)"
   ]
  },
  {
   "cell_type": "code",
   "execution_count": 25,
   "id": "f266c134",
   "metadata": {},
   "outputs": [
    {
     "name": "stdout",
     "output_type": "stream",
     "text": [
      "overall L2 loss on domain:\n",
      "0.18218222\n"
     ]
    }
   ],
   "source": [
    "print(\"overall L2 loss on domain:\")\n",
    "print(loss_fn(new_model, X_sample, Y_true))"
   ]
  },
  {
   "cell_type": "code",
   "execution_count": null,
   "id": "9b547579",
   "metadata": {},
   "outputs": [],
   "source": []
  }
 ],
 "metadata": {
  "kernelspec": {
   "display_name": "jax",
   "language": "python",
   "name": "python3"
  },
  "language_info": {
   "codemirror_mode": {
    "name": "ipython",
    "version": 3
   },
   "file_extension": ".py",
   "mimetype": "text/x-python",
   "name": "python",
   "nbconvert_exporter": "python",
   "pygments_lexer": "ipython3",
   "version": "3.12.11"
  }
 },
 "nbformat": 4,
 "nbformat_minor": 5
}
