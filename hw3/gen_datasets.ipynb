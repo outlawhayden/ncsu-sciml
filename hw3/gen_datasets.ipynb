{
 "cells": [
  {
   "cell_type": "markdown",
   "id": "fadbf143",
   "metadata": {},
   "source": [
    "## Random Uniform Grid Sampling"
   ]
  },
  {
   "cell_type": "code",
   "execution_count": 24,
   "id": "c5153684",
   "metadata": {},
   "outputs": [
    {
     "name": "stdout",
     "output_type": "stream",
     "text": [
      "\n",
      "configuring backend...\n",
      "Configured JAX backend: metal (Apple Silicon)\n",
      "backend selected:\n",
      " METAL\n",
      "active devices:\n",
      " [METAL(id=0)]\n",
      "--------------------\n",
      "\n"
     ]
    }
   ],
   "source": [
    "import jax\n",
    "import jax.numpy as jnp\n",
    "import jax.random as jr\n",
    "import numpy as np\n",
    "import platform\n",
    "import equinox as eqx\n",
    "import matplotlib as mpl\n",
    "import matplotlib.pyplot as plt\n",
    "from scipy.stats import qmc  # for Latin Hypercube Sampling\n",
    "\n",
    "\n",
    "\n",
    "## BACKEND AUTOCONFIG - find GPU if it's there\n",
    "print(\"\\nconfiguring backend...\")\n",
    "system = platform.system()\n",
    "machine = platform.machine().lower()\n",
    "\n",
    "if system == \"Darwin\" and (\"arm\" in machine or \"apple\" in machine or \"m1\" in machine or \"m2\" in machine):\n",
    "    try:\n",
    "        jax.config.update(\"jax_platform_name\", \"METAL\")\n",
    "        print(\"Configured JAX backend: metal (Apple Silicon)\")\n",
    "    except Exception as e:\n",
    "        print(\"Metal not available, falling back to default:\", e)\n",
    "elif system == \"Linux\":\n",
    "    devices = jax.devices()\n",
    "    if any(d.platform == \"gpu\" for d in devices):\n",
    "        jax.config.update(\"jax_platform_name\", \"gpu\")\n",
    "        print(\"Configured JAX backend: gpu\")\n",
    "    else:\n",
    "        jax.config.update(\"jax_platform_name\", \"cpu\")\n",
    "        print(\"Configured JAX backend: cpu\")\n",
    "else:\n",
    "    jax.config.update(\"jax_platform_name\", \"cpu\")\n",
    "    print(\"Configured JAX backend: cpu\")\n",
    "\n",
    "print(\"backend selected:\\n\", jax.default_backend())\n",
    "print(\"active devices:\\n\", jax.devices())\n",
    "print(\"--------------------\\n\")\n"
   ]
  },
  {
   "cell_type": "code",
   "execution_count": 16,
   "id": "55394eaa",
   "metadata": {},
   "outputs": [
    {
     "name": "stdout",
     "output_type": "stream",
     "text": [
      "(2000, 2)\n",
      "(200, 2)\n",
      "(100, 2)\n"
     ]
    }
   ],
   "source": [
    "n_bc = 200 # number of boundary pts\n",
    "n_ic = 100 # num of init pts\n",
    "n_re = 2000 # num residual pts\n",
    "t_min, t_max = 0, 1\n",
    "x_min, x_max = -1,1\n",
    "\n",
    "x_re = np.random.uniform(x_min, x_max, size=(n_re, 1))\n",
    "t_re = np.random.uniform(t_min, t_max, size=(n_re, 1))\n",
    "xt_re = np.hstack([x_re, t_re])\n",
    "\n",
    "\n",
    "x_bc = np.array([-1.0, 1.0])\n",
    "t_bc = np.random.uniform(0.0, t_max, [n_bc // 2, ]) # two boundary halves\n",
    "xv_bc, tv_bc = np.meshgrid(x_bc, t_bc) # generate coords on boundaries\n",
    "xt_bc = np.concatenate([np.reshape(xv_bc, [-1,1]), np.reshape(tv_bc, [-1,1])], axis = 1) # reshape to [(xi, ti)]\n",
    "\n",
    "\n",
    "x_ic = np.random.uniform(x_min, x_max, [n_ic,])\n",
    "t_ic = np.array([0.0])\n",
    "xv_ic, tv_ic = np.meshgrid(x_ic, t_ic)\n",
    "xt_ic = np.concatenate([np.reshape(xv_ic,[-1,1]), np.reshape(tv_ic,[-1,1])],axis=1)\n",
    "                       \n",
    "print(xt_re.shape)\n",
    "print(xt_bc.shape)\n",
    "print(xt_ic.shape)\n",
    "\n",
    "np.savez(\n",
    "    \"data/uniform_2000.npz\",\n",
    "    xt_bc=xt_bc,\n",
    "    xt_ic=xt_ic,\n",
    "    xt_re=xt_re\n",
    ")"
   ]
  },
  {
   "cell_type": "code",
   "execution_count": 17,
   "id": "3a11ca47",
   "metadata": {},
   "outputs": [
    {
     "name": "stdout",
     "output_type": "stream",
     "text": [
      "(4000, 2)\n",
      "(200, 2)\n",
      "(100, 2)\n"
     ]
    }
   ],
   "source": [
    "n_bc = 200 # number of boundary pts\n",
    "n_ic = 100 # num of init pts\n",
    "n_re = 4000 # num residual pts\n",
    "t_min, t_max = 0, 1\n",
    "x_min, x_max = -1,1\n",
    "\n",
    "x_re = np.random.uniform(x_min, x_max, size=(n_re, 1))\n",
    "t_re = np.random.uniform(t_min, t_max, size=(n_re, 1))\n",
    "xt_re = np.hstack([x_re, t_re])\n",
    "\n",
    "\n",
    "x_bc = np.array([-1.0, 1.0])\n",
    "t_bc = np.random.uniform(0.0, t_max, [n_bc // 2, ]) # two boundary halves\n",
    "xv_bc, tv_bc = np.meshgrid(x_bc, t_bc) # generate coords on boundaries\n",
    "xt_bc = np.concatenate([np.reshape(xv_bc, [-1,1]), np.reshape(tv_bc, [-1,1])], axis = 1) # reshape to [(xi, ti)]\n",
    "\n",
    "\n",
    "x_ic = np.random.uniform(x_min, x_max, [n_ic,])\n",
    "t_ic = np.array([0.0])\n",
    "xv_ic, tv_ic = np.meshgrid(x_ic, t_ic)\n",
    "xt_ic = np.concatenate([np.reshape(xv_ic,[-1,1]), np.reshape(tv_ic,[-1,1])],axis=1)\n",
    "                       \n",
    "print(xt_re.shape)\n",
    "print(xt_bc.shape)\n",
    "print(xt_ic.shape)\n",
    "\n",
    "np.savez(\n",
    "    \"data/uniform_4000.npz\",\n",
    "    xt_bc=xt_bc,\n",
    "    xt_ic=xt_ic,\n",
    "    xt_re=xt_re\n",
    ")"
   ]
  },
  {
   "cell_type": "code",
   "execution_count": 18,
   "id": "522a1fa2",
   "metadata": {},
   "outputs": [
    {
     "name": "stdout",
     "output_type": "stream",
     "text": [
      "(6000, 2)\n",
      "(200, 2)\n",
      "(100, 2)\n"
     ]
    }
   ],
   "source": [
    "n_bc = 200 # number of boundary pts\n",
    "n_ic = 100 # num of init pts\n",
    "n_re = 6000 # num residual pts\n",
    "t_min, t_max = 0, 1\n",
    "x_min, x_max = -1,1\n",
    "\n",
    "x_re = np.random.uniform(x_min, x_max, size=(n_re, 1))\n",
    "t_re = np.random.uniform(t_min, t_max, size=(n_re, 1))\n",
    "xt_re = np.hstack([x_re, t_re])\n",
    "\n",
    "\n",
    "x_bc = np.array([-1.0, 1.0])\n",
    "t_bc = np.random.uniform(0.0, t_max, [n_bc // 2, ]) # two boundary halves\n",
    "xv_bc, tv_bc = np.meshgrid(x_bc, t_bc) # generate coords on boundaries\n",
    "xt_bc = np.concatenate([np.reshape(xv_bc, [-1,1]), np.reshape(tv_bc, [-1,1])], axis = 1) # reshape to [(xi, ti)]\n",
    "\n",
    "\n",
    "x_ic = np.random.uniform(x_min, x_max, [n_ic,])\n",
    "t_ic = np.array([0.0])\n",
    "xv_ic, tv_ic = np.meshgrid(x_ic, t_ic)\n",
    "xt_ic = np.concatenate([np.reshape(xv_ic,[-1,1]), np.reshape(tv_ic,[-1,1])],axis=1)\n",
    "                       \n",
    "print(xt_re.shape)\n",
    "print(xt_bc.shape)\n",
    "print(xt_ic.shape)\n",
    "\n",
    "np.savez(\n",
    "    \"data/uniform_6000.npz\",\n",
    "    xt_bc=xt_bc,\n",
    "    xt_ic=xt_ic,\n",
    "    xt_re=xt_re\n",
    ")"
   ]
  },
  {
   "cell_type": "code",
   "execution_count": null,
   "id": "a1eafa93",
   "metadata": {},
   "outputs": [],
   "source": []
  },
  {
   "cell_type": "code",
   "execution_count": null,
   "id": "f118c5ac",
   "metadata": {},
   "outputs": [],
   "source": []
  },
  {
   "cell_type": "markdown",
   "id": "5a86f73e",
   "metadata": {},
   "source": [
    "## Grid Mesh Sampling"
   ]
  },
  {
   "cell_type": "code",
   "execution_count": 19,
   "id": "0a563359",
   "metadata": {},
   "outputs": [
    {
     "name": "stdout",
     "output_type": "stream",
     "text": [
      "(2000, 2)\n",
      "(200, 2)\n",
      "(100, 2)\n"
     ]
    }
   ],
   "source": [
    "\n",
    "n_bc = 200  # number of boundary pts\n",
    "n_ic = 100  # number of initial pts\n",
    "nx, nt = 50, 40  # residual grid resolution (nx*nt = 2000)\n",
    "t_min, t_max = 0, 1\n",
    "x_min, x_max = -1, 1\n",
    "\n",
    "x = np.linspace(x_min, x_max, nx)\n",
    "t = np.linspace(t_min, t_max, nt)\n",
    "xv, tv = np.meshgrid(x, t)\n",
    "xt_re = np.stack([xv.ravel(), tv.ravel()], axis=1)\n",
    "\n",
    "x_bc = np.array([-1.0, 1.0])\n",
    "t_bc = np.random.uniform(0.0, t_max, [n_bc // 2])\n",
    "xv_bc, tv_bc = np.meshgrid(x_bc, t_bc)\n",
    "xt_bc = np.stack([xv_bc.ravel(), tv_bc.ravel()], axis=1)\n",
    "\n",
    "x_ic = np.random.uniform(x_min, x_max, [n_ic])\n",
    "t_ic = np.array([0.0])\n",
    "xv_ic, tv_ic = np.meshgrid(x_ic, t_ic)\n",
    "xt_ic = np.stack([xv_ic.ravel(), tv_ic.ravel()], axis=1)\n",
    "\n",
    "print(xt_re.shape)  # (2000, 2)\n",
    "print(xt_bc.shape)  # (200, 2)\n",
    "print(xt_ic.shape)  # (100, 2)\n",
    "\n",
    "np.savez(\"data/uniform_mesh_2000.npz\", xt_bc=xt_bc, xt_ic=xt_ic, xt_re=xt_re)"
   ]
  },
  {
   "cell_type": "code",
   "execution_count": 20,
   "id": "6ea73a32",
   "metadata": {},
   "outputs": [
    {
     "name": "stdout",
     "output_type": "stream",
     "text": [
      "(4000, 2)\n",
      "(200, 2)\n",
      "(100, 2)\n"
     ]
    }
   ],
   "source": [
    "import numpy as np\n",
    "\n",
    "n_bc = 200  # number of boundary pts\n",
    "n_ic = 100  # number of initial pts\n",
    "nx, nt = 100, 40  # residual grid resolution (nx*nt = 4000)\n",
    "t_min, t_max = 0, 1\n",
    "x_min, x_max = -1, 1\n",
    "\n",
    "# === Residual points (interior grid) ===\n",
    "x = np.linspace(x_min, x_max, nx)\n",
    "t = np.linspace(t_min, t_max, nt)\n",
    "xv, tv = np.meshgrid(x, t)\n",
    "xt_re = np.stack([xv.ravel(), tv.ravel()], axis=1)\n",
    "\n",
    "# === Boundary points ===\n",
    "x_bc = np.array([-1.0, 1.0])\n",
    "t_bc = np.random.uniform(0.0, t_max, [n_bc // 2])\n",
    "xv_bc, tv_bc = np.meshgrid(x_bc, t_bc)\n",
    "xt_bc = np.stack([xv_bc.ravel(), tv_bc.ravel()], axis=1)\n",
    "\n",
    "# === Initial condition points ===\n",
    "x_ic = np.random.uniform(x_min, x_max, [n_ic])\n",
    "t_ic = np.array([0.0])\n",
    "xv_ic, tv_ic = np.meshgrid(x_ic, t_ic)\n",
    "xt_ic = np.stack([xv_ic.ravel(), tv_ic.ravel()], axis=1)\n",
    "\n",
    "print(xt_re.shape)  # (2000, 2)\n",
    "print(xt_bc.shape)  # (200, 2)\n",
    "print(xt_ic.shape)  # (100, 2)\n",
    "\n",
    "# === Save all to one file ===\n",
    "np.savez(\"data/uniform_mesh_4000.npz\", xt_bc=xt_bc, xt_ic=xt_ic, xt_re=xt_re)\n"
   ]
  },
  {
   "cell_type": "code",
   "execution_count": 21,
   "id": "198551e6",
   "metadata": {},
   "outputs": [
    {
     "name": "stdout",
     "output_type": "stream",
     "text": [
      "(6000, 2)\n",
      "(200, 2)\n",
      "(100, 2)\n"
     ]
    }
   ],
   "source": [
    "import numpy as np\n",
    "\n",
    "n_bc = 200  # number of boundary pts\n",
    "n_ic = 100  # number of initial pts\n",
    "nx, nt = 100, 60  # residual grid resolution (nx*nt = 6000)\n",
    "t_min, t_max = 0, 1\n",
    "x_min, x_max = -1, 1\n",
    "\n",
    "# === Residual points (interior grid) ===\n",
    "x = np.linspace(x_min, x_max, nx)\n",
    "t = np.linspace(t_min, t_max, nt)\n",
    "xv, tv = np.meshgrid(x, t)\n",
    "xt_re = np.stack([xv.ravel(), tv.ravel()], axis=1)\n",
    "\n",
    "# === Boundary points ===\n",
    "x_bc = np.array([-1.0, 1.0])\n",
    "t_bc = np.random.uniform(0.0, t_max, [n_bc // 2])\n",
    "xv_bc, tv_bc = np.meshgrid(x_bc, t_bc)\n",
    "xt_bc = np.stack([xv_bc.ravel(), tv_bc.ravel()], axis=1)\n",
    "\n",
    "# === Initial condition points ===\n",
    "x_ic = np.random.uniform(x_min, x_max, [n_ic])\n",
    "t_ic = np.array([0.0])\n",
    "xv_ic, tv_ic = np.meshgrid(x_ic, t_ic)\n",
    "xt_ic = np.stack([xv_ic.ravel(), tv_ic.ravel()], axis=1)\n",
    "\n",
    "print(xt_re.shape)  # (2000, 2)\n",
    "print(xt_bc.shape)  # (200, 2)\n",
    "print(xt_ic.shape)  # (100, 2)\n",
    "\n",
    "# === Save all to one file ===\n",
    "np.savez(\"data/uniform_mesh_6000.npz\", xt_bc=xt_bc, xt_ic=xt_ic, xt_re=xt_re)\n"
   ]
  },
  {
   "cell_type": "code",
   "execution_count": null,
   "id": "81d3941a",
   "metadata": {},
   "outputs": [],
   "source": []
  },
  {
   "cell_type": "markdown",
   "id": "724807ef",
   "metadata": {},
   "source": [
    "## LHC Sampling"
   ]
  },
  {
   "cell_type": "code",
   "execution_count": null,
   "id": "b36762b4",
   "metadata": {},
   "outputs": [
    {
     "name": "stdout",
     "output_type": "stream",
     "text": [
      "(2000, 2)\n",
      "[-9.99940968e-01  1.97452496e-04] [0.9997562  0.99965217]\n",
      "(2000, 2)\n",
      "(200, 2)\n",
      "(100, 2)\n",
      "(2000, 2)\n",
      "[-9.99087944e-01  2.46821638e-04] [0.99964158 0.99999128]\n"
     ]
    }
   ],
   "source": [
    "from scipy.stats.qmc import LatinHypercube\n",
    "\n",
    "n_bc = 200 # number of boundary pts\n",
    "n_ic = 100 # num of init pts\n",
    "n_re = 2000 # num residual pts\n",
    "t_min, t_max = 0, 1\n",
    "x_min, x_max = -1,1\n",
    "\n",
    "\n",
    "x_bc = np.array([-1.0, 1.0])\n",
    "t_bc = np.random.uniform(0.0, t_max, [n_bc // 2, ]) # two boundary halves\n",
    "xv_bc, tv_bc = np.meshgrid(x_bc, t_bc) # generate coords on boundaries\n",
    "xt_bc = np.concatenate([np.reshape(xv_bc, [-1,1]), np.reshape(tv_bc, [-1,1])], axis = 1) # reshape to [(xi, ti)]\n",
    "\n",
    "\n",
    "x_ic = np.random.uniform(x_min, x_max, [n_ic,])\n",
    "t_ic = np.array([0.0])\n",
    "xv_ic, tv_ic = np.meshgrid(x_ic, t_ic)\n",
    "xt_ic = np.concatenate([np.reshape(xv_ic,[-1,1]), np.reshape(tv_ic,[-1,1])],axis=1)\n",
    "\n",
    "sampler = qmc.LatinHypercube(d=2)\n",
    "X_lhs = sampler.random(n=n_re) \n",
    "\n",
    "# need to rescale to right domain\n",
    "mins = np.array([x_min, t_min])\n",
    "maxs = np.array([x_max, t_max])\n",
    "xt_re = X_lhs * (maxs - mins) + mins\n",
    "\n",
    "print(xt_re.shape)   # (2000, 2)\n",
    "print(xt_re.min(axis=0), xt_re.max(axis=0))  # should be close to [-1, 0], [1, 1]\n",
    "\n",
    "\n",
    "print(xt_re.shape)\n",
    "print(xt_bc.shape)\n",
    "print(xt_ic.shape)\n",
    "\n",
    "np.savez(\n",
    "    \"data/LHS_2000.npz\",\n",
    "    xt_bc=xt_bc,\n",
    "    xt_ic=xt_ic,\n",
    "    xt_re=xt_re\n",
    ")\n",
    "\n"
   ]
  },
  {
   "cell_type": "code",
   "execution_count": 26,
   "id": "a318bac6",
   "metadata": {},
   "outputs": [
    {
     "name": "stdout",
     "output_type": "stream",
     "text": [
      "(4000, 2)\n",
      "[-9.99973612e-01  2.27273531e-04] [0.99956007 0.99975389]\n",
      "(4000, 2)\n",
      "(200, 2)\n",
      "(100, 2)\n"
     ]
    }
   ],
   "source": [
    "from scipy.stats.qmc import LatinHypercube\n",
    "\n",
    "n_bc = 200 # number of boundary pts\n",
    "n_ic = 100 # num of init pts\n",
    "n_re = 4000 # num residual pts\n",
    "t_min, t_max = 0, 1\n",
    "x_min, x_max = -1,1\n",
    "\n",
    "\n",
    "x_bc = np.array([-1.0, 1.0])\n",
    "t_bc = np.random.uniform(0.0, t_max, [n_bc // 2, ]) # two boundary halves\n",
    "xv_bc, tv_bc = np.meshgrid(x_bc, t_bc) # generate coords on boundaries\n",
    "xt_bc = np.concatenate([np.reshape(xv_bc, [-1,1]), np.reshape(tv_bc, [-1,1])], axis = 1) # reshape to [(xi, ti)]\n",
    "\n",
    "\n",
    "x_ic = np.random.uniform(x_min, x_max, [n_ic,])\n",
    "t_ic = np.array([0.0])\n",
    "xv_ic, tv_ic = np.meshgrid(x_ic, t_ic)\n",
    "xt_ic = np.concatenate([np.reshape(xv_ic,[-1,1]), np.reshape(tv_ic,[-1,1])],axis=1)\n",
    "\n",
    "sampler = qmc.LatinHypercube(d=2)\n",
    "X_lhs = sampler.random(n=n_re) \n",
    "\n",
    "# need to rescale to right domain\n",
    "mins = np.array([x_min, t_min])\n",
    "maxs = np.array([x_max, t_max])\n",
    "xt_re = X_lhs * (maxs - mins) + mins\n",
    "\n",
    "print(xt_re.shape)   # (2000, 2)\n",
    "print(xt_re.min(axis=0), xt_re.max(axis=0))  # should be close to [-1, 0], [1, 1]\n",
    "\n",
    "\n",
    "print(xt_re.shape)\n",
    "print(xt_bc.shape)\n",
    "print(xt_ic.shape)\n",
    "\n",
    "np.savez(\n",
    "    \"data/LHS_4000.npz\",\n",
    "    xt_bc=xt_bc,\n",
    "    xt_ic=xt_ic,\n",
    "    xt_re=xt_re\n",
    ")\n"
   ]
  },
  {
   "cell_type": "markdown",
   "id": "8bb1114d",
   "metadata": {},
   "source": []
  },
  {
   "cell_type": "code",
   "execution_count": 27,
   "id": "b5b58051",
   "metadata": {},
   "outputs": [
    {
     "name": "stdout",
     "output_type": "stream",
     "text": [
      "(6000, 2)\n",
      "[-9.99816129e-01  6.56921950e-05] [0.9998951  0.99988922]\n",
      "(6000, 2)\n",
      "(200, 2)\n",
      "(100, 2)\n"
     ]
    }
   ],
   "source": [
    "from scipy.stats.qmc import LatinHypercube\n",
    "\n",
    "n_bc = 200 # number of boundary pts\n",
    "n_ic = 100 # num of init pts\n",
    "n_re = 6000 # num residual pts\n",
    "t_min, t_max = 0, 1\n",
    "x_min, x_max = -1,1\n",
    "\n",
    "\n",
    "x_bc = np.array([-1.0, 1.0])\n",
    "t_bc = np.random.uniform(0.0, t_max, [n_bc // 2, ]) # two boundary halves\n",
    "xv_bc, tv_bc = np.meshgrid(x_bc, t_bc) # generate coords on boundaries\n",
    "xt_bc = np.concatenate([np.reshape(xv_bc, [-1,1]), np.reshape(tv_bc, [-1,1])], axis = 1) # reshape to [(xi, ti)]\n",
    "\n",
    "\n",
    "x_ic = np.random.uniform(x_min, x_max, [n_ic,])\n",
    "t_ic = np.array([0.0])\n",
    "xv_ic, tv_ic = np.meshgrid(x_ic, t_ic)\n",
    "xt_ic = np.concatenate([np.reshape(xv_ic,[-1,1]), np.reshape(tv_ic,[-1,1])],axis=1)\n",
    "\n",
    "sampler = qmc.LatinHypercube(d=2)\n",
    "X_lhs = sampler.random(n=n_re) \n",
    "\n",
    "# need to rescale to right domain\n",
    "mins = np.array([x_min, t_min])\n",
    "maxs = np.array([x_max, t_max])\n",
    "xt_re = X_lhs * (maxs - mins) + mins\n",
    "\n",
    "print(xt_re.shape)   # (2000, 2)\n",
    "print(xt_re.min(axis=0), xt_re.max(axis=0))  # should be close to [-1, 0], [1, 1]\n",
    "\n",
    "\n",
    "print(xt_re.shape)\n",
    "print(xt_bc.shape)\n",
    "print(xt_ic.shape)\n",
    "\n",
    "np.savez(\n",
    "    \"data/LHS_6000.npz\",\n",
    "    xt_bc=xt_bc,\n",
    "    xt_ic=xt_ic,\n",
    "    xt_re=xt_re\n",
    ")\n"
   ]
  },
  {
   "cell_type": "code",
   "execution_count": null,
   "id": "d2df4481",
   "metadata": {},
   "outputs": [],
   "source": []
  }
 ],
 "metadata": {
  "kernelspec": {
   "display_name": "jax",
   "language": "python",
   "name": "python3"
  },
  "language_info": {
   "codemirror_mode": {
    "name": "ipython",
    "version": 3
   },
   "file_extension": ".py",
   "mimetype": "text/x-python",
   "name": "python",
   "nbconvert_exporter": "python",
   "pygments_lexer": "ipython3",
   "version": "3.12.11"
  }
 },
 "nbformat": 4,
 "nbformat_minor": 5
}
